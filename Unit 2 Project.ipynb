{
 "cells": [
  {
   "cell_type": "markdown",
   "metadata": {},
   "source": [
    "## Cleaning and Engineering"
   ]
  },
  {
   "cell_type": "code",
   "execution_count": null,
   "metadata": {},
   "outputs": [],
   "source": [
    "import pandas as pd\n",
    "import os\n",
    "import category_encoders as ce"
   ]
  },
  {
   "cell_type": "code",
   "execution_count": 1,
   "metadata": {},
   "outputs": [],
   "source": [
    "deaths = pd.read_csv('./filmdeathcounts.csv')"
   ]
  },
  {
   "cell_type": "code",
   "execution_count": 2,
   "metadata": {},
   "outputs": [
    {
     "data": {
      "text/html": [
       "<div>\n",
       "<style scoped>\n",
       "    .dataframe tbody tr th:only-of-type {\n",
       "        vertical-align: middle;\n",
       "    }\n",
       "\n",
       "    .dataframe tbody tr th {\n",
       "        vertical-align: top;\n",
       "    }\n",
       "\n",
       "    .dataframe thead th {\n",
       "        text-align: right;\n",
       "    }\n",
       "</style>\n",
       "<table border=\"1\" class=\"dataframe\">\n",
       "  <thead>\n",
       "    <tr style=\"text-align: right;\">\n",
       "      <th></th>\n",
       "      <th>Film</th>\n",
       "      <th>Year</th>\n",
       "      <th>Body_Count</th>\n",
       "      <th>MPAA_Rating</th>\n",
       "      <th>Genre</th>\n",
       "      <th>Director</th>\n",
       "      <th>Length_Minutes</th>\n",
       "      <th>IMDB_Rating</th>\n",
       "    </tr>\n",
       "  </thead>\n",
       "  <tbody>\n",
       "    <tr>\n",
       "      <td>0</td>\n",
       "      <td>24 Hour Party People</td>\n",
       "      <td>2002</td>\n",
       "      <td>7</td>\n",
       "      <td>R</td>\n",
       "      <td>Biography|Comedy|Drama|Music</td>\n",
       "      <td>Michael Winterbottom</td>\n",
       "      <td>117</td>\n",
       "      <td>7.3</td>\n",
       "    </tr>\n",
       "    <tr>\n",
       "      <td>1</td>\n",
       "      <td>28 Days Later</td>\n",
       "      <td>2002</td>\n",
       "      <td>53</td>\n",
       "      <td>R</td>\n",
       "      <td>Horror|Sci-Fi|Thriller</td>\n",
       "      <td>Danny Boyle</td>\n",
       "      <td>113</td>\n",
       "      <td>7.6</td>\n",
       "    </tr>\n",
       "    <tr>\n",
       "      <td>2</td>\n",
       "      <td>28 Weeks Later</td>\n",
       "      <td>2007</td>\n",
       "      <td>212</td>\n",
       "      <td>R</td>\n",
       "      <td>Horror|Sci-Fi|Thriller</td>\n",
       "      <td>Juan Carlos Fresnadillo</td>\n",
       "      <td>100</td>\n",
       "      <td>7.0</td>\n",
       "    </tr>\n",
       "    <tr>\n",
       "      <td>3</td>\n",
       "      <td>30 Days of Night</td>\n",
       "      <td>2007</td>\n",
       "      <td>67</td>\n",
       "      <td>R</td>\n",
       "      <td>Horror|Thriller</td>\n",
       "      <td>David Slade</td>\n",
       "      <td>113</td>\n",
       "      <td>6.6</td>\n",
       "    </tr>\n",
       "    <tr>\n",
       "      <td>4</td>\n",
       "      <td>300</td>\n",
       "      <td>2007</td>\n",
       "      <td>600</td>\n",
       "      <td>R</td>\n",
       "      <td>Action|Fantasy|History|War</td>\n",
       "      <td>Zack Snyder</td>\n",
       "      <td>117</td>\n",
       "      <td>7.7</td>\n",
       "    </tr>\n",
       "  </tbody>\n",
       "</table>\n",
       "</div>"
      ],
      "text/plain": [
       "                   Film  Year  Body_Count MPAA_Rating  \\\n",
       "0  24 Hour Party People  2002           7           R   \n",
       "1         28 Days Later  2002          53           R   \n",
       "2        28 Weeks Later  2007         212           R   \n",
       "3      30 Days of Night  2007          67           R   \n",
       "4                   300  2007         600           R   \n",
       "\n",
       "                          Genre                 Director  Length_Minutes  \\\n",
       "0  Biography|Comedy|Drama|Music     Michael Winterbottom             117   \n",
       "1        Horror|Sci-Fi|Thriller              Danny Boyle             113   \n",
       "2        Horror|Sci-Fi|Thriller  Juan Carlos Fresnadillo             100   \n",
       "3               Horror|Thriller              David Slade             113   \n",
       "4    Action|Fantasy|History|War              Zack Snyder             117   \n",
       "\n",
       "   IMDB_Rating  \n",
       "0          7.3  \n",
       "1          7.6  \n",
       "2          7.0  \n",
       "3          6.6  \n",
       "4          7.7  "
      ]
     },
     "execution_count": 2,
     "metadata": {},
     "output_type": "execute_result"
    }
   ],
   "source": [
    "deaths.head()"
   ]
  },
  {
   "cell_type": "code",
   "execution_count": 3,
   "metadata": {
    "scrolled": true
   },
   "outputs": [
    {
     "data": {
      "text/plain": [
       "(545, 8)"
      ]
     },
     "execution_count": 3,
     "metadata": {},
     "output_type": "execute_result"
    }
   ],
   "source": [
    "deaths.shape"
   ]
  },
  {
   "cell_type": "code",
   "execution_count": 4,
   "metadata": {},
   "outputs": [],
   "source": [
    "deaths = deaths.drop('Director', axis=1)"
   ]
  },
  {
   "cell_type": "code",
   "execution_count": 5,
   "metadata": {},
   "outputs": [
    {
     "data": {
      "text/plain": [
       "Index(['Film', 'Year', 'Body_Count', 'MPAA_Rating', 'Genre', 'Length_Minutes',\n",
       "       'IMDB_Rating'],\n",
       "      dtype='object')"
      ]
     },
     "execution_count": 5,
     "metadata": {},
     "output_type": "execute_result"
    }
   ],
   "source": [
    "deaths.columns"
   ]
  },
  {
   "cell_type": "code",
   "execution_count": 6,
   "metadata": {},
   "outputs": [
    {
     "data": {
      "text/plain": [
       "Film              0\n",
       "Year              0\n",
       "Body_Count        0\n",
       "MPAA_Rating       0\n",
       "Genre             0\n",
       "Length_Minutes    0\n",
       "IMDB_Rating       0\n",
       "dtype: int64"
      ]
     },
     "execution_count": 6,
     "metadata": {},
     "output_type": "execute_result"
    }
   ],
   "source": [
    "deaths.isna().sum()"
   ]
  },
  {
   "cell_type": "code",
   "execution_count": 7,
   "metadata": {},
   "outputs": [],
   "source": [
    "column_names = ['film',\n",
    "                'year',\n",
    "                'body_count', \n",
    "                'mpaa_rating',\n",
    "                'genre',\n",
    "                'length_minutes',\n",
    "                'imdb_rating']\n",
    "\n",
    "deaths.columns = column_names"
   ]
  },
  {
   "cell_type": "code",
   "execution_count": 8,
   "metadata": {},
   "outputs": [
    {
     "data": {
      "text/html": [
       "<div>\n",
       "<style scoped>\n",
       "    .dataframe tbody tr th:only-of-type {\n",
       "        vertical-align: middle;\n",
       "    }\n",
       "\n",
       "    .dataframe tbody tr th {\n",
       "        vertical-align: top;\n",
       "    }\n",
       "\n",
       "    .dataframe thead th {\n",
       "        text-align: right;\n",
       "    }\n",
       "</style>\n",
       "<table border=\"1\" class=\"dataframe\">\n",
       "  <thead>\n",
       "    <tr style=\"text-align: right;\">\n",
       "      <th></th>\n",
       "      <th>film</th>\n",
       "      <th>year</th>\n",
       "      <th>body_count</th>\n",
       "      <th>mpaa_rating</th>\n",
       "      <th>genre</th>\n",
       "      <th>length_minutes</th>\n",
       "      <th>imdb_rating</th>\n",
       "    </tr>\n",
       "  </thead>\n",
       "  <tbody>\n",
       "    <tr>\n",
       "      <td>0</td>\n",
       "      <td>24 Hour Party People</td>\n",
       "      <td>2002</td>\n",
       "      <td>7</td>\n",
       "      <td>R</td>\n",
       "      <td>Biography|Comedy|Drama|Music</td>\n",
       "      <td>117</td>\n",
       "      <td>7.3</td>\n",
       "    </tr>\n",
       "    <tr>\n",
       "      <td>1</td>\n",
       "      <td>28 Days Later</td>\n",
       "      <td>2002</td>\n",
       "      <td>53</td>\n",
       "      <td>R</td>\n",
       "      <td>Horror|Sci-Fi|Thriller</td>\n",
       "      <td>113</td>\n",
       "      <td>7.6</td>\n",
       "    </tr>\n",
       "    <tr>\n",
       "      <td>2</td>\n",
       "      <td>28 Weeks Later</td>\n",
       "      <td>2007</td>\n",
       "      <td>212</td>\n",
       "      <td>R</td>\n",
       "      <td>Horror|Sci-Fi|Thriller</td>\n",
       "      <td>100</td>\n",
       "      <td>7.0</td>\n",
       "    </tr>\n",
       "    <tr>\n",
       "      <td>3</td>\n",
       "      <td>30 Days of Night</td>\n",
       "      <td>2007</td>\n",
       "      <td>67</td>\n",
       "      <td>R</td>\n",
       "      <td>Horror|Thriller</td>\n",
       "      <td>113</td>\n",
       "      <td>6.6</td>\n",
       "    </tr>\n",
       "    <tr>\n",
       "      <td>4</td>\n",
       "      <td>300</td>\n",
       "      <td>2007</td>\n",
       "      <td>600</td>\n",
       "      <td>R</td>\n",
       "      <td>Action|Fantasy|History|War</td>\n",
       "      <td>117</td>\n",
       "      <td>7.7</td>\n",
       "    </tr>\n",
       "  </tbody>\n",
       "</table>\n",
       "</div>"
      ],
      "text/plain": [
       "                   film  year  body_count mpaa_rating  \\\n",
       "0  24 Hour Party People  2002           7           R   \n",
       "1         28 Days Later  2002          53           R   \n",
       "2        28 Weeks Later  2007         212           R   \n",
       "3      30 Days of Night  2007          67           R   \n",
       "4                   300  2007         600           R   \n",
       "\n",
       "                          genre  length_minutes  imdb_rating  \n",
       "0  Biography|Comedy|Drama|Music             117          7.3  \n",
       "1        Horror|Sci-Fi|Thriller             113          7.6  \n",
       "2        Horror|Sci-Fi|Thriller             100          7.0  \n",
       "3               Horror|Thriller             113          6.6  \n",
       "4    Action|Fantasy|History|War             117          7.7  "
      ]
     },
     "execution_count": 8,
     "metadata": {},
     "output_type": "execute_result"
    }
   ],
   "source": [
    "deaths.head()"
   ]
  },
  {
   "cell_type": "code",
   "execution_count": 9,
   "metadata": {},
   "outputs": [],
   "source": [
    "deaths['genre'] = deaths['genre'].str.slice(stop = 5)"
   ]
  },
  {
   "cell_type": "code",
   "execution_count": 10,
   "metadata": {},
   "outputs": [],
   "source": [
    "deaths = deaths.replace('Actio', 'Action')\n",
    "deaths = deaths.replace('Comed', 'Comedy')\n",
    "deaths = deaths.replace('Adven', 'Adventure')\n",
    "deaths = deaths.replace('Horro', 'Horror')\n",
    "deaths = deaths.replace('Biogr', 'Biography')\n",
    "deaths = deaths.replace('Weste', 'Western')\n",
    "deaths = deaths.replace('Anima', 'Animation')\n",
    "deaths = deaths.replace('Myste', 'Mystery')\n",
    "deaths = deaths.replace('Fanta', 'Fantasy')\n",
    "deaths = deaths.replace('Thril', 'Thriller')\n",
    "deaths = deaths.replace('Film-', 'Film-Noir')\n",
    "deaths = deaths.replace('Docum', 'Documentary')\n",
    "deaths = deaths.replace('Sci-F', 'Science Fiction')\n",
    "deaths = deaths.replace('War|D', 'War Drama')"
   ]
  },
  {
   "cell_type": "code",
   "execution_count": 11,
   "metadata": {},
   "outputs": [
    {
     "data": {
      "text/plain": [
       "array(['Biography', 'Horror', 'Action', 'Adventure', 'Crime', 'Drama',\n",
       "       'Comedy', 'Western', 'Animation', 'Fantasy', 'Science Fiction',\n",
       "       'Thriller', 'Mystery', 'War Drama', 'Film-Noir', 'Documentary'],\n",
       "      dtype=object)"
      ]
     },
     "execution_count": 11,
     "metadata": {},
     "output_type": "execute_result"
    }
   ],
   "source": [
    "deaths['genre'].unique()"
   ]
  },
  {
   "cell_type": "markdown",
   "metadata": {},
   "source": [
    "## Exploring"
   ]
  },
  {
   "cell_type": "code",
   "execution_count": 12,
   "metadata": {
    "scrolled": true
   },
   "outputs": [],
   "source": [
    "# import pandas_profiling\n",
    "\n",
    "# pandas_profiling.ProfileReport(deaths)"
   ]
  },
  {
   "cell_type": "code",
   "execution_count": 13,
   "metadata": {},
   "outputs": [
    {
     "data": {
      "text/html": [
       "<div>\n",
       "<style scoped>\n",
       "    .dataframe tbody tr th:only-of-type {\n",
       "        vertical-align: middle;\n",
       "    }\n",
       "\n",
       "    .dataframe tbody tr th {\n",
       "        vertical-align: top;\n",
       "    }\n",
       "\n",
       "    .dataframe thead th {\n",
       "        text-align: right;\n",
       "    }\n",
       "</style>\n",
       "<table border=\"1\" class=\"dataframe\">\n",
       "  <thead>\n",
       "    <tr style=\"text-align: right;\">\n",
       "      <th></th>\n",
       "      <th>year</th>\n",
       "      <th>body_count</th>\n",
       "      <th>length_minutes</th>\n",
       "      <th>imdb_rating</th>\n",
       "    </tr>\n",
       "  </thead>\n",
       "  <tbody>\n",
       "    <tr>\n",
       "      <td>count</td>\n",
       "      <td>545.000000</td>\n",
       "      <td>545.000000</td>\n",
       "      <td>545.000000</td>\n",
       "      <td>545.000000</td>\n",
       "    </tr>\n",
       "    <tr>\n",
       "      <td>mean</td>\n",
       "      <td>1995.387156</td>\n",
       "      <td>72.115596</td>\n",
       "      <td>116.146789</td>\n",
       "      <td>6.835963</td>\n",
       "    </tr>\n",
       "    <tr>\n",
       "      <td>std</td>\n",
       "      <td>12.389609</td>\n",
       "      <td>92.630013</td>\n",
       "      <td>22.712811</td>\n",
       "      <td>1.113516</td>\n",
       "    </tr>\n",
       "    <tr>\n",
       "      <td>min</td>\n",
       "      <td>1949.000000</td>\n",
       "      <td>1.000000</td>\n",
       "      <td>79.000000</td>\n",
       "      <td>2.000000</td>\n",
       "    </tr>\n",
       "    <tr>\n",
       "      <td>25%</td>\n",
       "      <td>1989.000000</td>\n",
       "      <td>15.000000</td>\n",
       "      <td>100.000000</td>\n",
       "      <td>6.200000</td>\n",
       "    </tr>\n",
       "    <tr>\n",
       "      <td>50%</td>\n",
       "      <td>1999.000000</td>\n",
       "      <td>44.000000</td>\n",
       "      <td>112.000000</td>\n",
       "      <td>6.900000</td>\n",
       "    </tr>\n",
       "    <tr>\n",
       "      <td>75%</td>\n",
       "      <td>2005.000000</td>\n",
       "      <td>93.000000</td>\n",
       "      <td>127.000000</td>\n",
       "      <td>7.600000</td>\n",
       "    </tr>\n",
       "    <tr>\n",
       "      <td>max</td>\n",
       "      <td>2013.000000</td>\n",
       "      <td>836.000000</td>\n",
       "      <td>216.000000</td>\n",
       "      <td>9.300000</td>\n",
       "    </tr>\n",
       "  </tbody>\n",
       "</table>\n",
       "</div>"
      ],
      "text/plain": [
       "              year  body_count  length_minutes  imdb_rating\n",
       "count   545.000000  545.000000      545.000000   545.000000\n",
       "mean   1995.387156   72.115596      116.146789     6.835963\n",
       "std      12.389609   92.630013       22.712811     1.113516\n",
       "min    1949.000000    1.000000       79.000000     2.000000\n",
       "25%    1989.000000   15.000000      100.000000     6.200000\n",
       "50%    1999.000000   44.000000      112.000000     6.900000\n",
       "75%    2005.000000   93.000000      127.000000     7.600000\n",
       "max    2013.000000  836.000000      216.000000     9.300000"
      ]
     },
     "execution_count": 13,
     "metadata": {},
     "output_type": "execute_result"
    }
   ],
   "source": [
    "deaths.describe()"
   ]
  },
  {
   "cell_type": "code",
   "execution_count": 14,
   "metadata": {},
   "outputs": [
    {
     "data": {
      "text/html": [
       "<div>\n",
       "<style scoped>\n",
       "    .dataframe tbody tr th:only-of-type {\n",
       "        vertical-align: middle;\n",
       "    }\n",
       "\n",
       "    .dataframe tbody tr th {\n",
       "        vertical-align: top;\n",
       "    }\n",
       "\n",
       "    .dataframe thead th {\n",
       "        text-align: right;\n",
       "    }\n",
       "</style>\n",
       "<table border=\"1\" class=\"dataframe\">\n",
       "  <thead>\n",
       "    <tr style=\"text-align: right;\">\n",
       "      <th></th>\n",
       "      <th>film</th>\n",
       "      <th>year</th>\n",
       "      <th>body_count</th>\n",
       "      <th>mpaa_rating</th>\n",
       "      <th>genre</th>\n",
       "      <th>length_minutes</th>\n",
       "      <th>imdb_rating</th>\n",
       "    </tr>\n",
       "  </thead>\n",
       "  <tbody>\n",
       "    <tr>\n",
       "      <td>488</td>\n",
       "      <td>The Third Man</td>\n",
       "      <td>1949</td>\n",
       "      <td>4</td>\n",
       "      <td>Approved</td>\n",
       "      <td>Film-Noir</td>\n",
       "      <td>104</td>\n",
       "      <td>8.4</td>\n",
       "    </tr>\n",
       "  </tbody>\n",
       "</table>\n",
       "</div>"
      ],
      "text/plain": [
       "              film  year  body_count mpaa_rating      genre  length_minutes  \\\n",
       "488  The Third Man  1949           4    Approved  Film-Noir             104   \n",
       "\n",
       "     imdb_rating  \n",
       "488          8.4  "
      ]
     },
     "execution_count": 14,
     "metadata": {},
     "output_type": "execute_result"
    }
   ],
   "source": [
    "deaths[deaths['year'] == 1949]"
   ]
  },
  {
   "cell_type": "code",
   "execution_count": 15,
   "metadata": {},
   "outputs": [
    {
     "data": {
      "text/html": [
       "<div>\n",
       "<style scoped>\n",
       "    .dataframe tbody tr th:only-of-type {\n",
       "        vertical-align: middle;\n",
       "    }\n",
       "\n",
       "    .dataframe tbody tr th {\n",
       "        vertical-align: top;\n",
       "    }\n",
       "\n",
       "    .dataframe thead th {\n",
       "        text-align: right;\n",
       "    }\n",
       "</style>\n",
       "<table border=\"1\" class=\"dataframe\">\n",
       "  <thead>\n",
       "    <tr style=\"text-align: right;\">\n",
       "      <th></th>\n",
       "      <th>film</th>\n",
       "      <th>year</th>\n",
       "      <th>body_count</th>\n",
       "      <th>mpaa_rating</th>\n",
       "      <th>genre</th>\n",
       "      <th>length_minutes</th>\n",
       "      <th>imdb_rating</th>\n",
       "    </tr>\n",
       "  </thead>\n",
       "  <tbody>\n",
       "    <tr>\n",
       "      <td>189</td>\n",
       "      <td>House of the Dead</td>\n",
       "      <td>2003</td>\n",
       "      <td>141</td>\n",
       "      <td>R</td>\n",
       "      <td>Action</td>\n",
       "      <td>90</td>\n",
       "      <td>2.0</td>\n",
       "    </tr>\n",
       "  </tbody>\n",
       "</table>\n",
       "</div>"
      ],
      "text/plain": [
       "                  film  year  body_count mpaa_rating   genre  length_minutes  \\\n",
       "189  House of the Dead  2003         141           R  Action              90   \n",
       "\n",
       "     imdb_rating  \n",
       "189          2.0  "
      ]
     },
     "execution_count": 15,
     "metadata": {},
     "output_type": "execute_result"
    }
   ],
   "source": [
    "deaths[deaths['imdb_rating'] == 2]"
   ]
  },
  {
   "cell_type": "code",
   "execution_count": 16,
   "metadata": {},
   "outputs": [
    {
     "data": {
      "text/html": [
       "<div>\n",
       "<style scoped>\n",
       "    .dataframe tbody tr th:only-of-type {\n",
       "        vertical-align: middle;\n",
       "    }\n",
       "\n",
       "    .dataframe tbody tr th {\n",
       "        vertical-align: top;\n",
       "    }\n",
       "\n",
       "    .dataframe thead th {\n",
       "        text-align: right;\n",
       "    }\n",
       "</style>\n",
       "<table border=\"1\" class=\"dataframe\">\n",
       "  <thead>\n",
       "    <tr style=\"text-align: right;\">\n",
       "      <th></th>\n",
       "      <th>film</th>\n",
       "      <th>year</th>\n",
       "      <th>body_count</th>\n",
       "      <th>mpaa_rating</th>\n",
       "      <th>genre</th>\n",
       "      <th>length_minutes</th>\n",
       "      <th>imdb_rating</th>\n",
       "    </tr>\n",
       "  </thead>\n",
       "  <tbody>\n",
       "    <tr>\n",
       "      <td>481</td>\n",
       "      <td>The Shawshank Redemption</td>\n",
       "      <td>1994</td>\n",
       "      <td>4</td>\n",
       "      <td>R</td>\n",
       "      <td>Crime</td>\n",
       "      <td>142</td>\n",
       "      <td>9.3</td>\n",
       "    </tr>\n",
       "  </tbody>\n",
       "</table>\n",
       "</div>"
      ],
      "text/plain": [
       "                         film  year  body_count mpaa_rating  genre  \\\n",
       "481  The Shawshank Redemption  1994           4           R  Crime   \n",
       "\n",
       "     length_minutes  imdb_rating  \n",
       "481             142          9.3  "
      ]
     },
     "execution_count": 16,
     "metadata": {},
     "output_type": "execute_result"
    }
   ],
   "source": [
    "deaths[deaths['imdb_rating'] == 9.3]"
   ]
  },
  {
   "cell_type": "code",
   "execution_count": 17,
   "metadata": {
    "scrolled": true
   },
   "outputs": [
    {
     "data": {
      "text/html": [
       "<div>\n",
       "<style scoped>\n",
       "    .dataframe tbody tr th:only-of-type {\n",
       "        vertical-align: middle;\n",
       "    }\n",
       "\n",
       "    .dataframe tbody tr th {\n",
       "        vertical-align: top;\n",
       "    }\n",
       "\n",
       "    .dataframe thead th {\n",
       "        text-align: right;\n",
       "    }\n",
       "</style>\n",
       "<table border=\"1\" class=\"dataframe\">\n",
       "  <thead>\n",
       "    <tr style=\"text-align: right;\">\n",
       "      <th></th>\n",
       "      <th>film</th>\n",
       "      <th>year</th>\n",
       "      <th>body_count</th>\n",
       "      <th>mpaa_rating</th>\n",
       "      <th>genre</th>\n",
       "      <th>length_minutes</th>\n",
       "      <th>imdb_rating</th>\n",
       "    </tr>\n",
       "  </thead>\n",
       "  <tbody>\n",
       "    <tr>\n",
       "      <td>223</td>\n",
       "      <td>Lawrence of Arabia</td>\n",
       "      <td>1962</td>\n",
       "      <td>180</td>\n",
       "      <td>PG</td>\n",
       "      <td>Adventure</td>\n",
       "      <td>216</td>\n",
       "      <td>8.4</td>\n",
       "    </tr>\n",
       "  </tbody>\n",
       "</table>\n",
       "</div>"
      ],
      "text/plain": [
       "                   film  year  body_count mpaa_rating      genre  \\\n",
       "223  Lawrence of Arabia  1962         180          PG  Adventure   \n",
       "\n",
       "     length_minutes  imdb_rating  \n",
       "223             216          8.4  "
      ]
     },
     "execution_count": 17,
     "metadata": {},
     "output_type": "execute_result"
    }
   ],
   "source": [
    "deaths[deaths['length_minutes'] == 216]\n",
    "\n",
    "#3 hours and 36 minutes long!!!"
   ]
  },
  {
   "cell_type": "code",
   "execution_count": 18,
   "metadata": {},
   "outputs": [
    {
     "data": {
      "text/html": [
       "<div>\n",
       "<style scoped>\n",
       "    .dataframe tbody tr th:only-of-type {\n",
       "        vertical-align: middle;\n",
       "    }\n",
       "\n",
       "    .dataframe tbody tr th {\n",
       "        vertical-align: top;\n",
       "    }\n",
       "\n",
       "    .dataframe thead th {\n",
       "        text-align: right;\n",
       "    }\n",
       "</style>\n",
       "<table border=\"1\" class=\"dataframe\">\n",
       "  <thead>\n",
       "    <tr style=\"text-align: right;\">\n",
       "      <th></th>\n",
       "      <th>film</th>\n",
       "      <th>year</th>\n",
       "      <th>body_count</th>\n",
       "      <th>mpaa_rating</th>\n",
       "      <th>genre</th>\n",
       "      <th>length_minutes</th>\n",
       "      <th>imdb_rating</th>\n",
       "    </tr>\n",
       "  </thead>\n",
       "  <tbody>\n",
       "    <tr>\n",
       "      <td>241</td>\n",
       "      <td>Lord of the Rings: Return of the King</td>\n",
       "      <td>2003</td>\n",
       "      <td>836</td>\n",
       "      <td>PG-13</td>\n",
       "      <td>Action</td>\n",
       "      <td>201</td>\n",
       "      <td>8.9</td>\n",
       "    </tr>\n",
       "  </tbody>\n",
       "</table>\n",
       "</div>"
      ],
      "text/plain": [
       "                                      film  year  body_count mpaa_rating  \\\n",
       "241  Lord of the Rings: Return of the King  2003         836       PG-13   \n",
       "\n",
       "      genre  length_minutes  imdb_rating  \n",
       "241  Action             201          8.9  "
      ]
     },
     "execution_count": 18,
     "metadata": {},
     "output_type": "execute_result"
    }
   ],
   "source": [
    "deaths[deaths['body_count'] == 836]"
   ]
  },
  {
   "cell_type": "code",
   "execution_count": 19,
   "metadata": {},
   "outputs": [
    {
     "data": {
      "image/png": "[encoded data removed]",
      "text/plain": [
       "<Figure size 432x288 with 1 Axes>"
      ]
     },
     "metadata": {
      "needs_background": "light"
     },
     "output_type": "display_data"
    }
   ],
   "source": [
    "import matplotlib.pyplot as plt\n",
    "\n",
    "x = deaths['body_count']\n",
    "y = deaths['length_minutes']\n",
    "\n",
    "plt.scatter(x, y)\n",
    "plt.xlabel = 'Body Count'\n",
    "plt.ylabel = 'Length (Minutes)'\n",
    "plt.title = 'Body Count vs. Length of Movie'\n",
    "plt.show();"
   ]
  },
  {
   "cell_type": "code",
   "execution_count": 20,
   "metadata": {},
   "outputs": [
    {
     "data": {
      "image/png": "[encoded data removed]",
      "text/plain": [
       "<Figure size 432x288 with 1 Axes>"
      ]
     },
     "metadata": {
      "needs_background": "light"
     },
     "output_type": "display_data"
    }
   ],
   "source": [
    "x = deaths['body_count']\n",
    "y = deaths['imdb_rating']\n",
    "\n",
    "plt.scatter(x, y)\n",
    "plt.xlabel = 'Body Count'\n",
    "plt.ylabel = 'IMDB Rating'\n",
    "plt.show();"
   ]
  },
  {
   "cell_type": "code",
   "execution_count": 21,
   "metadata": {},
   "outputs": [
    {
     "data": {
      "image/png": "[encoded data removed]",
      "text/plain": [
       "<Figure size 432x288 with 1 Axes>"
      ]
     },
     "metadata": {
      "needs_background": "light"
     },
     "output_type": "display_data"
    }
   ],
   "source": [
    "x = deaths['body_count']\n",
    "y = deaths['imdb_rating']\n",
    "\n",
    "plt.scatter(x, y)\n",
    "plt.xlabel = 'Body Count'\n",
    "plt.ylabel = 'IMDB Rating'\n",
    "plt.xlim(0, 200)\n",
    "plt.show();"
   ]
  },
  {
   "cell_type": "code",
   "execution_count": 22,
   "metadata": {},
   "outputs": [
    {
     "data": {
      "image/png": "[encoded data removed]",
      "text/plain": [
       "<Figure size 432x288 with 1 Axes>"
      ]
     },
     "metadata": {
      "needs_background": "light"
     },
     "output_type": "display_data"
    }
   ],
   "source": [
    "x = deaths['body_count']\n",
    "y = deaths['genre']\n",
    "\n",
    "plt.scatter(x, y)\n",
    "plt.xlabel = 'Body Count'\n",
    "plt.ylabel = 'Genre'\n",
    "plt.show();"
   ]
  },
  {
   "cell_type": "code",
   "execution_count": 23,
   "metadata": {},
   "outputs": [
    {
     "data": {
      "image/png": "[encoded data removed]",
      "text/plain": [
       "<Figure size 432x288 with 1 Axes>"
      ]
     },
     "metadata": {
      "needs_background": "light"
     },
     "output_type": "display_data"
    }
   ],
   "source": [
    "x = deaths['body_count']\n",
    "y = deaths['genre']\n",
    "\n",
    "plt.scatter(x, y)\n",
    "plt.xlabel = 'Body Count'\n",
    "plt.ylabel = 'Genre'\n",
    "plt.xlim(0, 200)\n",
    "plt.show();"
   ]
  },
  {
   "cell_type": "code",
   "execution_count": 24,
   "metadata": {},
   "outputs": [
    {
     "data": {
      "image/png": "[encoded data removed]",
      "text/plain": [
       "<Figure size 432x288 with 1 Axes>"
      ]
     },
     "metadata": {
      "needs_background": "light"
     },
     "output_type": "display_data"
    }
   ],
   "source": [
    "x = deaths['length_minutes']\n",
    "y = deaths['imdb_rating']\n",
    "\n",
    "plt.scatter(x, y)\n",
    "plt.xlabel = 'Body Count'\n",
    "plt.ylabel = 'Genre'\n",
    "plt.show();"
   ]
  },
  {
   "cell_type": "code",
   "execution_count": 25,
   "metadata": {},
   "outputs": [],
   "source": [
    "#deaths.to_csv('deaths_cleaned.csv')"
   ]
  },
  {
   "cell_type": "markdown",
   "metadata": {},
   "source": [
    "## Genre-Specific"
   ]
  },
  {
   "cell_type": "code",
   "execution_count": 26,
   "metadata": {},
   "outputs": [],
   "source": [
    "df = pd.read_csv('./deaths_cleaned.csv')\n",
    "df = df.drop('Unnamed: 0', axis=1)"
   ]
  },
  {
   "cell_type": "code",
   "execution_count": 27,
   "metadata": {},
   "outputs": [],
   "source": [
    "western = df[df['genre'] == 'Western']\n",
    "comedy = df[df['genre'] == 'Comedy']\n",
    "drama = df[df['genre'] == 'Drama']\n",
    "crime = df[df['genre'] == 'Crime']\n",
    "adventure = df[df['genre'] == 'Adventure']\n",
    "action = df[df['genre'] == 'Action']\n",
    "horror = df[df['genre'] == 'Horror']\n",
    "biography = df[df['genre'] == 'Biography']"
   ]
  },
  {
   "cell_type": "code",
   "execution_count": 28,
   "metadata": {},
   "outputs": [
    {
     "data": {
      "text/plain": [
       "count     12.000000\n",
       "mean      94.916667\n",
       "std       48.810316\n",
       "min       42.000000\n",
       "25%       54.750000\n",
       "50%       86.000000\n",
       "75%      123.250000\n",
       "max      202.000000\n",
       "Name: body_count, dtype: float64"
      ]
     },
     "execution_count": 28,
     "metadata": {},
     "output_type": "execute_result"
    }
   ],
   "source": [
    "western['body_count'].describe()"
   ]
  },
  {
   "cell_type": "code",
   "execution_count": 29,
   "metadata": {},
   "outputs": [
    {
     "data": {
      "text/plain": [
       "count     27.000000\n",
       "mean      33.666667\n",
       "std       41.074042\n",
       "min        2.000000\n",
       "25%        5.000000\n",
       "50%       15.000000\n",
       "75%       48.000000\n",
       "max      148.000000\n",
       "Name: body_count, dtype: float64"
      ]
     },
     "execution_count": 29,
     "metadata": {},
     "output_type": "execute_result"
    }
   ],
   "source": [
    "comedy['body_count'].describe()"
   ]
  },
  {
   "cell_type": "code",
   "execution_count": 30,
   "metadata": {},
   "outputs": [
    {
     "data": {
      "text/plain": [
       "count     44.000000\n",
       "mean      70.295455\n",
       "std       86.043142\n",
       "min        3.000000\n",
       "25%        7.750000\n",
       "50%       27.500000\n",
       "75%       97.000000\n",
       "max      307.000000\n",
       "Name: body_count, dtype: float64"
      ]
     },
     "execution_count": 30,
     "metadata": {},
     "output_type": "execute_result"
    }
   ],
   "source": [
    "drama['body_count'].describe()"
   ]
  },
  {
   "cell_type": "code",
   "execution_count": 31,
   "metadata": {},
   "outputs": [
    {
     "data": {
      "text/plain": [
       "count     51.000000\n",
       "mean      29.196078\n",
       "std       45.752386\n",
       "min        1.000000\n",
       "25%        8.000000\n",
       "50%       13.000000\n",
       "75%       24.000000\n",
       "max      214.000000\n",
       "Name: body_count, dtype: float64"
      ]
     },
     "execution_count": 31,
     "metadata": {},
     "output_type": "execute_result"
    }
   ],
   "source": [
    "crime['body_count'].describe()"
   ]
  },
  {
   "cell_type": "code",
   "execution_count": 32,
   "metadata": {},
   "outputs": [
    {
     "data": {
      "text/plain": [
       "count     23.000000\n",
       "mean     111.130435\n",
       "std      145.741772\n",
       "min        3.000000\n",
       "25%       23.500000\n",
       "50%       48.000000\n",
       "75%      153.500000\n",
       "max      572.000000\n",
       "Name: body_count, dtype: float64"
      ]
     },
     "execution_count": 32,
     "metadata": {},
     "output_type": "execute_result"
    }
   ],
   "source": [
    "adventure['body_count'].describe()"
   ]
  },
  {
   "cell_type": "code",
   "execution_count": 33,
   "metadata": {},
   "outputs": [
    {
     "data": {
      "text/plain": [
       "count    334.000000\n",
       "mean      81.982036\n",
       "std       99.431053\n",
       "min        3.000000\n",
       "25%       25.250000\n",
       "50%       55.000000\n",
       "75%       98.000000\n",
       "max      836.000000\n",
       "Name: body_count, dtype: float64"
      ]
     },
     "execution_count": 33,
     "metadata": {},
     "output_type": "execute_result"
    }
   ],
   "source": [
    "action['body_count'].describe()"
   ]
  },
  {
   "cell_type": "code",
   "execution_count": 34,
   "metadata": {},
   "outputs": [
    {
     "data": {
      "text/plain": [
       "count     22.000000\n",
       "mean      49.136364\n",
       "std       59.426862\n",
       "min        1.000000\n",
       "25%       15.000000\n",
       "50%       28.500000\n",
       "75%       55.250000\n",
       "max      217.000000\n",
       "Name: body_count, dtype: float64"
      ]
     },
     "execution_count": 34,
     "metadata": {},
     "output_type": "execute_result"
    }
   ],
   "source": [
    "horror['body_count'].describe()"
   ]
  },
  {
   "cell_type": "code",
   "execution_count": 35,
   "metadata": {},
   "outputs": [
    {
     "data": {
      "text/plain": [
       "count     12.000000\n",
       "mean      60.083333\n",
       "std       71.016590\n",
       "min        3.000000\n",
       "25%       13.000000\n",
       "50%       26.500000\n",
       "75%       77.000000\n",
       "max      200.000000\n",
       "Name: body_count, dtype: float64"
      ]
     },
     "execution_count": 35,
     "metadata": {},
     "output_type": "execute_result"
    }
   ],
   "source": [
    "biography['body_count'].describe()"
   ]
  },
  {
   "cell_type": "markdown",
   "metadata": {},
   "source": [
    "## Machine Learning"
   ]
  },
  {
   "cell_type": "code",
   "execution_count": 36,
   "metadata": {},
   "outputs": [],
   "source": [
    "from sklearn.model_selection import train_test_split\n",
    "\n",
    "def rmse(y_true, y_pred):\n",
    "    return np.sqrt(mean_squared_error(y_true, y_pred))\n",
    "\n",
    "def rmsle(y_true, y_pred):\n",
    "    return np.sqrt(mean_squared_log_error(y_true, y_pred))"
   ]
  },
  {
   "cell_type": "code",
   "execution_count": 37,
   "metadata": {},
   "outputs": [
    {
     "data": {
      "text/plain": [
       "((399, 7), (112, 7), (34, 7))"
      ]
     },
     "execution_count": 37,
     "metadata": {},
     "output_type": "execute_result"
    }
   ],
   "source": [
    "# Read data\n",
    "\n",
    "traintest = df\n",
    "\n",
    "# Split into train & test sets\n",
    "\n",
    "traintest_bcount = traintest['body_count'].unique()\n",
    "train_bcount, testval_bcount = train_test_split(\n",
    "    traintest_bcount, random_state=42)\n",
    "train = traintest[traintest.body_count.isin(train_bcount)]\n",
    "testval = traintest[traintest.body_count.isin(testval_bcount)]\n",
    "\n",
    "#Read data again\n",
    "\n",
    "traintest = testval\n",
    "\n",
    "# Split into validation & test sets\n",
    "\n",
    "traintest_bcount = traintest['body_count'].unique()\n",
    "val_bcount, test_bcount = train_test_split(\n",
    "    traintest_bcount, random_state=42)\n",
    "val = traintest[traintest.body_count.isin(val_bcount)]\n",
    "test = traintest[traintest.body_count.isin(test_bcount)]\n",
    "\n",
    "train.shape, val.shape, test.shape"
   ]
  },
  {
   "cell_type": "code",
   "execution_count": 38,
   "metadata": {},
   "outputs": [],
   "source": [
    "import numpy as np\n",
    "\n",
    "target = 'body_count'\n",
    "\n",
    "x_train = train.drop(columns=target)\n",
    "x_val = val.drop(columns=target)\n",
    "x_test = test.drop(columns=target)\n",
    "\n",
    "y_train = train[target]\n",
    "y_val = val[target]\n",
    "\n",
    "y_train_log = np.log1p(y_train)\n",
    "y_val_log = np.log1p(y_val)"
   ]
  },
  {
   "cell_type": "code",
   "execution_count": 39,
   "metadata": {},
   "outputs": [
    {
     "name": "stdout",
     "output_type": "stream",
     "text": [
      "Validation Error 1.0994468352616291\n"
     ]
    }
   ],
   "source": [
    "#Validation Score\n",
    "\n",
    "import category_encoders as ce\n",
    "from sklearn.pipeline import make_pipeline\n",
    "from sklearn.ensemble import RandomForestRegressor\n",
    "from sklearn.metrics import mean_squared_error, mean_squared_log_error\n",
    "\n",
    "pipeline = make_pipeline(ce.OrdinalEncoder(),\n",
    "                        RandomForestRegressor(n_estimators = 100, random_state = 42, n_jobs=-1))\n",
    "\n",
    "pipeline.fit(x_train, y_train_log)\n",
    "\n",
    "y_pred_log = pipeline.predict(x_val)\n",
    "\n",
    "print('Validation Error', rmse(y_val_log, y_pred_log))"
   ]
  },
  {
   "cell_type": "code",
   "execution_count": 40,
   "metadata": {},
   "outputs": [
    {
     "data": {
      "text/plain": [
       "((412, 7), (113, 7), (20, 7))"
      ]
     },
     "execution_count": 40,
     "metadata": {},
     "output_type": "execute_result"
    }
   ],
   "source": [
    "from sklearn.model_selection import train_test_split\n",
    "\n",
    "# Read data\n",
    "\n",
    "traintest = df\n",
    "\n",
    "# Split into train & test sets\n",
    "\n",
    "traintest_rating = traintest['imdb_rating'].unique()\n",
    "train_rating, testval_rating = train_test_split(\n",
    "     traintest_rating, random_state=42)\n",
    "train = traintest[traintest.imdb_rating.isin(train_rating)]\n",
    "testval = traintest[traintest.imdb_rating.isin(testval_rating)]\n",
    "\n",
    "#Read data again\n",
    "\n",
    "traintest = testval\n",
    "\n",
    "# Split into validation & test sets\n",
    "\n",
    "traintest_rating = traintest['imdb_rating'].unique()\n",
    "val_rating, test_rating = train_test_split(\n",
    "     traintest_rating, random_state=42)\n",
    "val = traintest[traintest.imdb_rating.isin(val_rating)]\n",
    "test = traintest[traintest.imdb_rating.isin(test_rating)]\n",
    "\n",
    "train.shape, val.shape, test.shape"
   ]
  },
  {
   "cell_type": "code",
   "execution_count": 41,
   "metadata": {},
   "outputs": [],
   "source": [
    "import numpy as np\n",
    "\n",
    "target = 'imdb_rating'\n",
    "\n",
    "x_train = train.drop(columns=target)\n",
    "x_val = val.drop(columns=target)\n",
    "x_test = test.drop(columns=target)\n",
    "\n",
    "y_train = train[target]\n",
    "y_val = val[target]\n",
    "\n",
    "y_train_log = np.log1p(y_train)\n",
    "y_val_log = np.log1p(y_val)"
   ]
  },
  {
   "cell_type": "code",
   "execution_count": 42,
   "metadata": {},
   "outputs": [
    {
     "name": "stdout",
     "output_type": "stream",
     "text": [
      "Validation Error 0.1622182026769421\n"
     ]
    }
   ],
   "source": [
    "#Validation Score\n",
    "\n",
    "import category_encoders as ce\n",
    "from sklearn.pipeline import make_pipeline\n",
    "from sklearn.ensemble import RandomForestRegressor\n",
    "from sklearn.metrics import mean_squared_error, mean_squared_log_error\n",
    "\n",
    "model = RandomForestRegressor\n",
    "\n",
    "pipeline = make_pipeline(ce.OrdinalEncoder(),\n",
    "                         RandomForestRegressor(n_estimators = 100, random_state = 42, n_jobs=-1))\n",
    "\n",
    "pipeline.fit(x_train, y_train_log)\n",
    "\n",
    "y_pred_log = pipeline.predict(x_val)\n",
    "\n",
    "print('Validation Error', rmse(y_val_log, y_pred_log))"
   ]
  },
  {
   "cell_type": "markdown",
   "metadata": {},
   "source": [
    "## XGBoost"
   ]
  },
  {
   "cell_type": "code",
   "execution_count": 43,
   "metadata": {},
   "outputs": [
    {
     "name": "stdout",
     "output_type": "stream",
     "text": [
      "[14:02:34] WARNING: src/objective/regression_obj.cu:152: reg:linear is now deprecated in favor of reg:squarederror.\n",
      "[0]\tvalidation_0-rmse:1.40728\tvalidation_1-rmse:1.38451\n",
      "Multiple eval metrics have been passed: 'validation_1-rmse' will be used for early stopping.\n",
      "\n",
      "Will train until validation_1-rmse hasn't improved in 50 rounds.\n",
      "[1]\tvalidation_0-rmse:1.26859\tvalidation_1-rmse:1.2461\n",
      "[2]\tvalidation_0-rmse:1.14385\tvalidation_1-rmse:1.1217\n",
      "[3]\tvalidation_0-rmse:1.03168\tvalidation_1-rmse:1.00993\n",
      "[4]\tvalidation_0-rmse:0.930868\tvalidation_1-rmse:0.909571\n",
      "[5]\tvalidation_0-rmse:0.840284\tvalidation_1-rmse:0.819494\n",
      "[6]\tvalidation_0-rmse:0.75892\tvalidation_1-rmse:0.738909\n",
      "[7]\tvalidation_0-rmse:0.685816\tvalidation_1-rmse:0.666246\n",
      "[8]\tvalidation_0-rmse:0.620242\tvalidation_1-rmse:0.601455\n",
      "[9]\tvalidation_0-rmse:0.561393\tvalidation_1-rmse:0.543498\n",
      "[10]\tvalidation_0-rmse:0.508663\tvalidation_1-rmse:0.49157\n",
      "[11]\tvalidation_0-rmse:0.46134\tvalidation_1-rmse:0.456489\n",
      "[12]\tvalidation_0-rmse:0.419012\tvalidation_1-rmse:0.415446\n",
      "[13]\tvalidation_0-rmse:0.3812\tvalidation_1-rmse:0.379049\n",
      "[14]\tvalidation_0-rmse:0.347419\tvalidation_1-rmse:0.346844\n",
      "[15]\tvalidation_0-rmse:0.317357\tvalidation_1-rmse:0.318489\n",
      "[16]\tvalidation_0-rmse:0.29066\tvalidation_1-rmse:0.293249\n",
      "[17]\tvalidation_0-rmse:0.266998\tvalidation_1-rmse:0.278225\n",
      "[18]\tvalidation_0-rmse:0.246026\tvalidation_1-rmse:0.258737\n",
      "[19]\tvalidation_0-rmse:0.227439\tvalidation_1-rmse:0.242709\n",
      "[20]\tvalidation_0-rmse:0.211028\tvalidation_1-rmse:0.228326\n",
      "[21]\tvalidation_0-rmse:0.196748\tvalidation_1-rmse:0.21622\n",
      "[22]\tvalidation_0-rmse:0.18415\tvalidation_1-rmse:0.206728\n",
      "[23]\tvalidation_0-rmse:0.173281\tvalidation_1-rmse:0.198826\n",
      "[24]\tvalidation_0-rmse:0.163765\tvalidation_1-rmse:0.186913\n",
      "[25]\tvalidation_0-rmse:0.155132\tvalidation_1-rmse:0.180583\n",
      "[26]\tvalidation_0-rmse:0.14797\tvalidation_1-rmse:0.176491\n",
      "[27]\tvalidation_0-rmse:0.141908\tvalidation_1-rmse:0.170527\n",
      "[28]\tvalidation_0-rmse:0.136799\tvalidation_1-rmse:0.16724\n",
      "[29]\tvalidation_0-rmse:0.132327\tvalidation_1-rmse:0.164886\n",
      "[30]\tvalidation_0-rmse:0.128592\tvalidation_1-rmse:0.162686\n",
      "[31]\tvalidation_0-rmse:0.124871\tvalidation_1-rmse:0.16153\n",
      "[32]\tvalidation_0-rmse:0.122228\tvalidation_1-rmse:0.160876\n",
      "[33]\tvalidation_0-rmse:0.119937\tvalidation_1-rmse:0.160632\n",
      "[34]\tvalidation_0-rmse:0.117281\tvalidation_1-rmse:0.160722\n",
      "[35]\tvalidation_0-rmse:0.115641\tvalidation_1-rmse:0.161282\n",
      "[36]\tvalidation_0-rmse:0.113725\tvalidation_1-rmse:0.161133\n",
      "[37]\tvalidation_0-rmse:0.112526\tvalidation_1-rmse:0.162755\n",
      "[38]\tvalidation_0-rmse:0.110861\tvalidation_1-rmse:0.163088\n",
      "[39]\tvalidation_0-rmse:0.10934\tvalidation_1-rmse:0.162996\n",
      "[40]\tvalidation_0-rmse:0.108616\tvalidation_1-rmse:0.163595\n",
      "[41]\tvalidation_0-rmse:0.107504\tvalidation_1-rmse:0.163792\n",
      "[42]\tvalidation_0-rmse:0.106391\tvalidation_1-rmse:0.164157\n",
      "[43]\tvalidation_0-rmse:0.105882\tvalidation_1-rmse:0.165941\n",
      "[44]\tvalidation_0-rmse:0.104988\tvalidation_1-rmse:0.166675\n",
      "[45]\tvalidation_0-rmse:0.104119\tvalidation_1-rmse:0.167062\n",
      "[46]\tvalidation_0-rmse:0.10368\tvalidation_1-rmse:0.168492\n",
      "[47]\tvalidation_0-rmse:0.102867\tvalidation_1-rmse:0.168581\n",
      "[48]\tvalidation_0-rmse:0.102212\tvalidation_1-rmse:0.169377\n",
      "[49]\tvalidation_0-rmse:0.101825\tvalidation_1-rmse:0.170459\n",
      "[50]\tvalidation_0-rmse:0.101238\tvalidation_1-rmse:0.17095\n",
      "[51]\tvalidation_0-rmse:0.100774\tvalidation_1-rmse:0.170173\n",
      "[52]\tvalidation_0-rmse:0.100442\tvalidation_1-rmse:0.170494\n",
      "[53]\tvalidation_0-rmse:0.099823\tvalidation_1-rmse:0.170848\n",
      "[54]\tvalidation_0-rmse:0.099292\tvalidation_1-rmse:0.17104\n",
      "[55]\tvalidation_0-rmse:0.098817\tvalidation_1-rmse:0.172067\n",
      "[56]\tvalidation_0-rmse:0.09829\tvalidation_1-rmse:0.172087\n",
      "[57]\tvalidation_0-rmse:0.098034\tvalidation_1-rmse:0.172338\n",
      "[58]\tvalidation_0-rmse:0.097556\tvalidation_1-rmse:0.172737\n",
      "[59]\tvalidation_0-rmse:0.097367\tvalidation_1-rmse:0.173065\n",
      "[60]\tvalidation_0-rmse:0.096954\tvalidation_1-rmse:0.174054\n",
      "[61]\tvalidation_0-rmse:0.096605\tvalidation_1-rmse:0.174263\n",
      "[62]\tvalidation_0-rmse:0.096148\tvalidation_1-rmse:0.174477\n",
      "[63]\tvalidation_0-rmse:0.095753\tvalidation_1-rmse:0.174252\n",
      "[64]\tvalidation_0-rmse:0.095191\tvalidation_1-rmse:0.173788\n",
      "[65]\tvalidation_0-rmse:0.09508\tvalidation_1-rmse:0.173772\n",
      "[66]\tvalidation_0-rmse:0.09499\tvalidation_1-rmse:0.174856\n",
      "[67]\tvalidation_0-rmse:0.094781\tvalidation_1-rmse:0.174935\n",
      "[68]\tvalidation_0-rmse:0.094433\tvalidation_1-rmse:0.175002\n",
      "[69]\tvalidation_0-rmse:0.093971\tvalidation_1-rmse:0.175054\n",
      "[70]\tvalidation_0-rmse:0.093732\tvalidation_1-rmse:0.175033\n",
      "[71]\tvalidation_0-rmse:0.09329\tvalidation_1-rmse:0.175163\n",
      "[72]\tvalidation_0-rmse:0.092914\tvalidation_1-rmse:0.175315\n",
      "[73]\tvalidation_0-rmse:0.092652\tvalidation_1-rmse:0.174569\n",
      "[74]\tvalidation_0-rmse:0.092557\tvalidation_1-rmse:0.174605\n",
      "[75]\tvalidation_0-rmse:0.092297\tvalidation_1-rmse:0.174557\n",
      "[76]\tvalidation_0-rmse:0.09207\tvalidation_1-rmse:0.175503\n",
      "[77]\tvalidation_0-rmse:0.091749\tvalidation_1-rmse:0.175389\n",
      "[78]\tvalidation_0-rmse:0.091446\tvalidation_1-rmse:0.175625\n",
      "[79]\tvalidation_0-rmse:0.09116\tvalidation_1-rmse:0.17582\n",
      "[80]\tvalidation_0-rmse:0.090594\tvalidation_1-rmse:0.175779\n",
      "[81]\tvalidation_0-rmse:0.090463\tvalidation_1-rmse:0.175884\n",
      "[82]\tvalidation_0-rmse:0.090197\tvalidation_1-rmse:0.175836\n",
      "[83]\tvalidation_0-rmse:0.08971\tvalidation_1-rmse:0.175795\n",
      "Stopping. Best iteration:\n",
      "[33]\tvalidation_0-rmse:0.119937\tvalidation_1-rmse:0.160632\n",
      "\n"
     ]
    },
    {
     "data": {
      "text/plain": [
       "XGBRegressor(base_score=0.5, booster='gbtree', colsample_bylevel=1,\n",
       "             colsample_bynode=1, colsample_bytree=1, gamma=0,\n",
       "             importance_type='gain', learning_rate=0.1, max_delta_step=0,\n",
       "             max_depth=3, min_child_weight=1, missing=None, n_estimators=2000,\n",
       "             n_jobs=-1, nthread=None, objective='reg:linear', random_state=0,\n",
       "             reg_alpha=0, reg_lambda=1, scale_pos_weight=1, seed=None,\n",
       "             silent=None, subsample=1, verbosity=1)"
      ]
     },
     "execution_count": 43,
     "metadata": {},
     "output_type": "execute_result"
    }
   ],
   "source": [
    "from xgboost import XGBRegressor\n",
    "import warnings\n",
    "warnings.simplefilter(action='ignore', category=FutureWarning)\n",
    "\n",
    "encoder = ce.OrdinalEncoder()\n",
    "x_train_encoded = encoder.fit_transform(x_train)\n",
    "x_val_encoded = encoder.transform(x_val)\n",
    "\n",
    "eval_set = [(x_train_encoded, y_train_log),\n",
    "           (x_val_encoded, y_val_log)]\n",
    "\n",
    "model = XGBRegressor(n_estimators=2000, n_jobs=-1)\n",
    "model.fit(x_train_encoded, y_train_log,\n",
    "        eval_set = eval_set, eval_metric = 'rmse', early_stopping_rounds = 50)"
   ]
  },
  {
   "cell_type": "code",
   "execution_count": 44,
   "metadata": {},
   "outputs": [
    {
     "data": {
      "image/png": "[encoded data removed]",
      "text/plain": [
       "<Figure size 432x288 with 1 Axes>"
      ]
     },
     "metadata": {
      "needs_background": "light"
     },
     "output_type": "display_data"
    }
   ],
   "source": [
    "%matplotlib inline\n",
    "import matplotlib.pyplot as plt\n",
    "\n",
    "results = model.evals_result()\n",
    "train_rmse = results['validation_0']['rmse']\n",
    "val_rmse = results['validation_1']['rmse']\n",
    "epoch = range(len(train_rmse))\n",
    "plt.plot(epoch, train_rmse, label='Train')\n",
    "plt.plot(epoch, val_rmse, label='Validation')\n",
    "plt.ylim(0,1.5)\n",
    "plt.xlim(0, 50)\n",
    "plt.legend();"
   ]
  },
  {
   "cell_type": "code",
   "execution_count": 45,
   "metadata": {},
   "outputs": [
    {
     "data": {
      "image/png": "[encoded data removed]",
      "text/plain": [
       "<Figure size 720x720 with 1 Axes>"
      ]
     },
     "metadata": {
      "needs_background": "light"
     },
     "output_type": "display_data"
    }
   ],
   "source": [
    "from sklearn.pipeline import make_pipeline\n",
    "\n",
    "pipeline = make_pipeline(\n",
    "  ce.OrdinalEncoder(),\n",
    "  RandomForestRegressor(n_estimators=100, random_state=42, n_jobs=-1))\n",
    "\n",
    "pipeline.fit(x_train, y_train_log)\n",
    "y_pred_log = pipeline.predict(x_val)\n",
    "rmse(y_val_log, y_pred_log)\n",
    "\n",
    "%matplotlib inline\n",
    "import matplotlib.pyplot as plt\n",
    "plt.figure(figsize=(10,10))\n",
    "rf = pipeline.named_steps['randomforestregressor']\n",
    "importances = pd.Series(rf.feature_importances_, x_train.columns)\n",
    "importances.sort_values().plot.barh(color='grey');"
   ]
  },
  {
   "cell_type": "code",
   "execution_count": null,
   "metadata": {},
   "outputs": [],
   "source": []
  }
 ],
 "metadata": {
  "kernelspec": {
   "display_name": "Python 3",
   "language": "python",
   "name": "python3"
  },
  "language_info": {
   "codemirror_mode": {
    "name": "ipython",
    "version": 3
   },
   "file_extension": ".py",
   "mimetype": "text/x-python",
   "name": "python",
   "nbconvert_exporter": "python",
   "pygments_lexer": "ipython3",
   "version": "3.7.4"
  }
 },
 "nbformat": 4,
 "nbformat_minor": 2
}
